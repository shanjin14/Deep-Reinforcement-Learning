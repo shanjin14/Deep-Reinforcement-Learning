{
 "cells": [
  {
   "cell_type": "markdown",
   "metadata": {},
   "source": [
    "# Collaboration and Competition\n",
    "\n",
    "---\n",
    "\n",
    "You are welcome to use this coding environment to train your agent for the project.  Follow the instructions below to get started!\n",
    "\n",
    "### 1. Start the Environment\n",
    "\n",
    "Run the next code cell to install a few packages.  This line will take a few minutes to run!"
   ]
  },
  {
   "cell_type": "code",
   "execution_count": 1,
   "metadata": {},
   "outputs": [
    {
     "name": "stdout",
     "output_type": "stream",
     "text": [
      "\u001b[31mtensorflow 1.7.1 has requirement numpy>=1.13.3, but you'll have numpy 1.12.1 which is incompatible.\u001b[0m\r\n",
      "\u001b[31mipython 6.5.0 has requirement prompt-toolkit<2.0.0,>=1.0.15, but you'll have prompt-toolkit 3.0.18 which is incompatible.\u001b[0m\r\n"
     ]
    }
   ],
   "source": [
    "!pip -q install ./python"
   ]
  },
  {
   "cell_type": "markdown",
   "metadata": {},
   "source": [
    "The environment is already saved in the Workspace and can be accessed at the file path provided below. "
   ]
  },
  {
   "cell_type": "code",
   "execution_count": 2,
   "metadata": {},
   "outputs": [
    {
     "name": "stderr",
     "output_type": "stream",
     "text": [
      "INFO:unityagents:\n",
      "'Academy' started successfully!\n",
      "Unity Academy name: Academy\n",
      "        Number of Brains: 1\n",
      "        Number of External Brains : 1\n",
      "        Lesson number : 0\n",
      "        Reset Parameters :\n",
      "\t\t\n",
      "Unity brain name: TennisBrain\n",
      "        Number of Visual Observations (per agent): 0\n",
      "        Vector Observation space type: continuous\n",
      "        Vector Observation space size (per agent): 8\n",
      "        Number of stacked Vector Observation: 3\n",
      "        Vector Action space type: continuous\n",
      "        Vector Action space size (per agent): 2\n",
      "        Vector Action descriptions: , \n"
     ]
    }
   ],
   "source": [
    "from unityagents import UnityEnvironment\n",
    "import numpy as np\n",
    "\n",
    "env = UnityEnvironment(file_name=\"/data/Tennis_Linux_NoVis/Tennis\")"
   ]
  },
  {
   "cell_type": "markdown",
   "metadata": {},
   "source": [
    "Environments contain **_brains_** which are responsible for deciding the actions of their associated agents. Here we check for the first brain available, and set it as the default brain we will be controlling from Python."
   ]
  },
  {
   "cell_type": "code",
   "execution_count": 3,
   "metadata": {},
   "outputs": [],
   "source": [
    "# get the default brain\n",
    "brain_name = env.brain_names[0]\n",
    "brain = env.brains[brain_name]"
   ]
  },
  {
   "cell_type": "markdown",
   "metadata": {},
   "source": [
    "### 2. Examine the State and Action Spaces\n",
    "\n",
    "Run the code cell below to print some information about the environment."
   ]
  },
  {
   "cell_type": "code",
   "execution_count": 4,
   "metadata": {},
   "outputs": [
    {
     "name": "stdout",
     "output_type": "stream",
     "text": [
      "Number of agents: 2\n",
      "Size of each action: 2\n",
      "There are 2 agents. Each observes a state with length: 24\n",
      "The state for the first agent looks like: [ 0.          0.          0.          0.          0.          0.          0.\n",
      "  0.          0.          0.          0.          0.          0.          0.\n",
      "  0.          0.         -6.65278625 -1.5        -0.          0.\n",
      "  6.83172083  6.         -0.          0.        ]\n"
     ]
    }
   ],
   "source": [
    "# reset the environment\n",
    "env_info = env.reset(train_mode=True)[brain_name]\n",
    "\n",
    "# number of agents \n",
    "num_agents = len(env_info.agents)\n",
    "print('Number of agents:', num_agents)\n",
    "\n",
    "# size of each action\n",
    "action_size = brain.vector_action_space_size\n",
    "print('Size of each action:', action_size)\n",
    "\n",
    "# examine the state space \n",
    "states = env_info.vector_observations\n",
    "state_size = states.shape[1]\n",
    "print('There are {} agents. Each observes a state with length: {}'.format(states.shape[0], state_size))\n",
    "print('The state for the first agent looks like:', states[0])"
   ]
  },
  {
   "cell_type": "markdown",
   "metadata": {},
   "source": [
    "### 3. Take Random Actions in the Environment\n",
    "\n",
    "In the next code cell, you will learn how to use the Python API to control the agent and receive feedback from the environment.\n",
    "\n",
    "Note that **in this coding environment, you will not be able to watch the agents while they are training**, and you should set `train_mode=True` to restart the environment."
   ]
  },
  {
   "cell_type": "code",
   "execution_count": 5,
   "metadata": {},
   "outputs": [
    {
     "name": "stdout",
     "output_type": "stream",
     "text": [
      "Total score (averaged over agents) this episode: -0.004999999888241291\n",
      "Total score (averaged over agents) this episode: -0.004999999888241291\n",
      "Total score (averaged over agents) this episode: 0.04500000085681677\n",
      "Total score (averaged over agents) this episode: 0.04500000085681677\n",
      "Total score (averaged over agents) this episode: 0.04500000085681677\n"
     ]
    }
   ],
   "source": [
    "for i in range(5):                                         # play game for 5 episodes\n",
    "    env_info = env.reset(train_mode=False)[brain_name]     # reset the environment    \n",
    "    states = env_info.vector_observations                  # get the current state (for each agent)\n",
    "    scores = np.zeros(num_agents)                          # initialize the score (for each agent)\n",
    "    while True:\n",
    "        actions = np.random.randn(num_agents, action_size) # select an action (for each agent)\n",
    "        actions = np.clip(actions, -1, 1)                  # all actions between -1 and 1\n",
    "        #print(actions)\n",
    "        env_info = env.step(actions)[brain_name]           # send all actions to tne environment\n",
    "        next_states = env_info.vector_observations         # get next state (for each agent)\n",
    "        rewards = env_info.rewards                         # get reward (for each agent)\n",
    "        #print(rewards)\n",
    "        dones = env_info.local_done                        # see if episode finished\n",
    "        scores += env_info.rewards                         # update the score (for each agent)\n",
    "        states = next_states                               # roll over states to next time step\n",
    "        if np.any(dones):                                  # exit loop if episode finished\n",
    "            break\n",
    "    print('Total score (averaged over agents) this episode: {}'.format(np.mean(scores)))"
   ]
  },
  {
   "cell_type": "markdown",
   "metadata": {},
   "source": [
    "When finished, you can close the environment."
   ]
  },
  {
   "cell_type": "code",
   "execution_count": null,
   "metadata": {},
   "outputs": [],
   "source": [
    "#env.close()"
   ]
  },
  {
   "cell_type": "markdown",
   "metadata": {},
   "source": [
    "### 4. It's Your Turn!\n",
    "\n",
    "Now it's your turn to train your own agent to solve the environment!  A few **important notes**:\n",
    "- When training the environment, set `train_mode=True`, so that the line for resetting the environment looks like the following:\n",
    "```python\n",
    "env_info = env.reset(train_mode=True)[brain_name]\n",
    "```\n",
    "- To structure your work, you're welcome to work directly in this Jupyter notebook, or you might like to start over with a new file!  You can see the list of files in the workspace by clicking on **_Jupyter_** in the top left corner of the notebook.\n",
    "- In this coding environment, you will not be able to watch the agents while they are training.  However, **_after training the agents_**, you can download the saved model weights to watch the agents on your own machine! "
   ]
  },
  {
   "cell_type": "code",
   "execution_count": 7,
   "metadata": {},
   "outputs": [
    {
     "name": "stdout",
     "output_type": "stream",
     "text": [
      "The autoreload extension is already loaded. To reload it, use:\n",
      "  %reload_ext autoreload\n"
     ]
    }
   ],
   "source": [
    "%load_ext autoreload\n",
    "%autoreload 2\n",
    "import numpy as np\n",
    "from ddpg_agent import Agent,ReplayBuffer\n",
    "from collections import deque\n",
    "import random\n",
    "import torch\n",
    "from collections import deque\n",
    "import matplotlib.pyplot as plt\n",
    "import time\n",
    "%matplotlib inline"
   ]
  },
  {
   "cell_type": "code",
   "execution_count": 8,
   "metadata": {},
   "outputs": [
    {
     "name": "stdout",
     "output_type": "stream",
     "text": [
      "cpu\n",
      "cpu\n",
      "instantiated 2 agents\n",
      "14 timestep in Episode 100\t Mean Score for Agent 1: 0.045, Mean Score for Agent 2: 0.045, Mean Score of both Agents: 0.002\n",
      "Time used 42.99086809158325 as at episode 100\n",
      "30 timestep in Episode 200\t Mean Score for Agent 1: -0.005, Mean Score for Agent 2: -0.005, Mean Score of both Agents: 0.009\n",
      "Time used 88.40969800949097 as at episode 200\n",
      "13 timestep in Episode 300\t Mean Score for Agent 1: 0.195, Mean Score for Agent 2: 0.095, Mean Score of both Agents: 0.028\n",
      "Time used 147.06904435157776 as at episode 300\n",
      "67 timestep in Episode 400\t Mean Score for Agent 1: -0.005, Mean Score for Agent 2: -0.005, Mean Score of both Agents: 0.089\n",
      "Time used 268.2117214202881 as at episode 400\n",
      "1000 timestep in Episode 500\t Mean Score for Agent 1: 0.095, Mean Score for Agent 2: 0.045, Mean Score of both Agents: 0.434\n",
      "Time used 747.528603553772 as at episode 500\n",
      "\n",
      "Environment solved in 403 episodes!\tAverage Score: 0.50\n",
      "Time used 831.4991157054901\n"
     ]
    },
    {
     "data": {
      "image/png": "[encoded data removed]",
      "text/plain": [
       "<matplotlib.figure.Figure at 0x7f3c161c6ef0>"
      ]
     },
     "metadata": {
      "needs_background": "light"
     },
     "output_type": "display_data"
    }
   ],
   "source": [
    "def ddpg(n_episodes=4000):\n",
    "    scores_deque = deque(maxlen=100)\n",
    "    scores_ep  = []\n",
    "    start=time.time()\n",
    "    max_score = -np.Inf\n",
    "    agents = [] \n",
    "    agent_scores =deque(maxlen=100)\n",
    "    \n",
    "    env_info = env.reset(train_mode=True)[brain_name] # reset the environment\n",
    "    state = env_info.vector_observations\n",
    "    \n",
    "    #use a shared replay buffer\n",
    "    BUFFER_SIZE = int(1e5)  # replay buffer size\n",
    "    BATCH_SIZE = 128        # minibatch size\n",
    "    SharedReplay = ReplayBuffer(action_size, BUFFER_SIZE, BATCH_SIZE, seed=0)\n",
    "    \n",
    "    #state space is two agent space combined \n",
    "    state_size = state.shape[1] +1 # add another state space to flag out player\n",
    "    for i in range(num_agents):\n",
    "        agents.append(Agent(state_size, action_size, random_seed=0,SharedReplayBuffer=SharedReplay))\n",
    "    \n",
    "    #make them sharing critic actor and memory\n",
    "    agents[1].critic_local = agents[0].critic_local\n",
    "    agents[1].critic_target = agents[0].critic_target\n",
    "    agents[1].critic_optimizer = agents[0].critic_optimizer\n",
    "\n",
    "    agents[1].actor_local = agents[0].actor_local\n",
    "    agents[1].actor_target = agents[0].actor_target\n",
    "    agents[1].actor_optimizer = agents[0].actor_optimizer\n",
    "        \n",
    "    print('instantiated {} agents'.format(num_agents))   \n",
    "    \n",
    "    for i_episode in range(1, n_episodes+1):\n",
    "        env_info = env.reset(train_mode=True)[brain_name] # reset the environment\n",
    "        state = env_info.vector_observations            # get the current state\n",
    "        state = [np.append(state[0],[1]).reshape((1,state_size)), np.append(state[1],[-1]).reshape((1,state_size))]\n",
    "        for agent in agents:\n",
    "            agent.reset()\n",
    "            \n",
    "        scores_in_episode =np.zeros(num_agents)\n",
    "        score = 0\n",
    "        timestep = time.time()\n",
    "        #print('start episode {} timestep iteration'.format(i_episode))\n",
    "        t=0\n",
    "        while True:\n",
    "        #for t in range(max_t):\n",
    "            #print(state)\n",
    "            action = np.array([agents[i].act(state[i])[0] for i in range(num_agents)])\n",
    "            #print(action)\n",
    "            env_info = env.step(action)[brain_name]        # send the action to the environment\n",
    "            next_state = env_info.vector_observations   # get the next state\n",
    "            next_state = [np.append(next_state[0],[1]).reshape((1,state_size)), np.append(next_state[1],[-1]).reshape((1,state_size))]\n",
    "            reward = env_info.rewards                   # get the reward\n",
    "            done = env_info.local_done                  # see if episode has finished\n",
    "            #next_state, reward, done, _ = env.step(action)\n",
    "            for i in range(num_agents):\n",
    "                #print(\"agent \",i,\" take step\")\n",
    "                agents[i].step(state[i], action[i], reward[i], next_state[i], done[i])\n",
    "                \n",
    "            state = next_state\n",
    "            scores_in_episode += reward\n",
    "            if np.any(done):\n",
    "                break\n",
    "           \n",
    "            t=t+1\n",
    "            #if t % 500 ==0:\n",
    "            #    print(t)\n",
    "            \n",
    "        agent_scores.append(scores_in_episode)\n",
    "        score = np.max(scores_in_episode) #take the max\n",
    "        scores_deque.append(score)\n",
    "        scores_ep.append(np.mean(scores_deque))\n",
    "        \n",
    "        if i_episode % 100 == 0:\n",
    "            torch.save(agents[0].actor_local.state_dict(), 'checkpoint_actor0.pth')\n",
    "            torch.save(agents[0].critic_local.state_dict(), 'checkpoint_critic0.pth')\n",
    "            torch.save(agents[1].actor_local.state_dict(), 'checkpoint_actor1.pth')\n",
    "            torch.save(agents[1].critic_local.state_dict(), 'checkpoint_critic1.pth')            \n",
    "            \n",
    "            print('{} timestep in Episode {}\\t Mean Score for Agent 1: {:.3f}, Mean Score for Agent 2: {:.3f}, Mean Score of both Agents: {:.3f}'\\\n",
    "                  .format(t,i_episode, np.mean(agent_scores[0]), np.mean(agent_scores[1]), np.mean(scores_deque)))\n",
    "            end = time.time()\n",
    "            print(\"Time used {} as at episode {}\".format(end-start,i_episode))\n",
    "        if np.mean(scores_deque)>0.5:\n",
    "            print('\\nEnvironment solved in {:d} episodes!\\tAverage Score: {:.2f}'.format(i_episode-100, np.mean(scores_deque)))\n",
    "            torch.save(agents[0].actor_local.state_dict(), 'checkpoint_actor0.pth')\n",
    "            torch.save(agents[0].critic_local.state_dict(), 'checkpoint_critic0.pth')\n",
    "            torch.save(agents[1].actor_local.state_dict(), 'checkpoint_actor1.pth')\n",
    "            torch.save(agents[1].critic_local.state_dict(), 'checkpoint_critic1.pth')     \n",
    "            break\n",
    "        if i_episode >1500:\n",
    "            break\n",
    "            \n",
    "    end = time.time()\n",
    "    print(\"Time used {}\".format(end-start))\n",
    "    return scores_ep\n",
    "\n",
    "scores_ep = ddpg()\n",
    "\n",
    "fig = plt.figure()\n",
    "ax = fig.add_subplot(111)\n",
    "plt.plot(np.arange(1, len(scores_ep)+1), scores_ep)\n",
    "plt.ylabel('Score')\n",
    "plt.xlabel('Episode #')\n",
    "plt.show()"
   ]
  },
  {
   "cell_type": "code",
   "execution_count": null,
   "metadata": {},
   "outputs": [],
   "source": []
  }
 ],
 "metadata": {
  "kernelspec": {
   "display_name": "Python 3",
   "language": "python",
   "name": "python3"
  },
  "language_info": {
   "codemirror_mode": {
    "name": "ipython",
    "version": 3
   },
   "file_extension": ".py",
   "mimetype": "text/x-python",
   "name": "python",
   "nbconvert_exporter": "python",
   "pygments_lexer": "ipython3",
   "version": "3.6.3"
  }
 },
 "nbformat": 4,
 "nbformat_minor": 2
}
